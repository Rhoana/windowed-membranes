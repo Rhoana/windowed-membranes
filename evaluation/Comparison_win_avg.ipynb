{
 "cells": [
  {
   "cell_type": "markdown",
   "metadata": {},
   "source": [
    "# Segmentation Performance\n",
    "Evaluation of membrane detection using watershed/variation of information (VI) and pixel-wise membrane error. Variation of Information is calculated using [partition_comparison](https://github.com/thouis/partition-comparison) and split VI is calculated using [gala](https://github.com/janelia-flyem/gala)."
   ]
  },
  {
   "cell_type": "code",
   "execution_count": 1,
   "metadata": {
    "collapsed": true
   },
   "outputs": [],
   "source": [
    "%matplotlib inline\n",
    "import mahotas as mh\n",
    "import cPickle\n",
    "from gala import evaluate as ev\n",
    "import numpy as np\n",
    "import partition_comparison\n",
    "import matplotlib.pyplot as plt\n",
    "import cv2"
   ]
  },
  {
   "cell_type": "code",
   "execution_count": 2,
   "metadata": {
    "collapsed": false
   },
   "outputs": [],
   "source": [
    "def disk(radius):\n",
    "    y, x = np.ogrid[-radius:radius+1, -radius:radius+1]\n",
    "    return x**2 + y**2 <= radius**2\n",
    "\n",
    "\n",
    "def watershed(probs, radius):\n",
    "    sel = disk(radius)\n",
    "    minima = mh.regmin(probs, Bc=sel)\n",
    "    markers, nr_markers = mh.label(minima)\n",
    "    return mh.cwatershed(probs, markers)\n",
    "\n",
    "def partition_VI(putative, gold):\n",
    "    mask = gold != 0\n",
    "    VI_res = partition_comparison.variation_of_information(gold[mask], putative[mask].astype(gold.dtype))\n",
    "    return VI_res\n",
    "\n",
    "def evaluate_VI(pred,ground_truth,radii):\n",
    "\n",
    "    if radii.size >1:\n",
    "        VI = np.zeros((radii.size,3))\n",
    "        r = 0\n",
    "        for radius in radii:\n",
    "            # VI_metric -> undersegmentation error,oversegmentation error,VI\n",
    "\n",
    "            segmentation = watershed(pred,radius)\n",
    "            VI_split =  ev.split_vi(segmentation, ground_truth)\n",
    "            VI[r,0] += VI_split[0]\n",
    "            VI[r,1] += VI_split[1]\n",
    "\n",
    "            VI_partition = partition_VI(segmentation, ground_truth)    \n",
    "            VI[r,2] += VI_partition   \n",
    "\n",
    "            r += 1\n",
    "    else:\n",
    "        try:\n",
    "            segmentation = watershed(pred,radii[0])\n",
    "            VI = partition_VI(segmentation, ground_truth) \n",
    "        except:\n",
    "            segmentation = watershed(pred,radii)\n",
    "            VI = partition_VI(segmentation, ground_truth)\n",
    "    \n",
    "    return VI\n",
    "\n",
    "def remove_synapse(img, threshold = 399):  \n",
    "    for m in xrange(img.shape[0]):\n",
    "        for n in xrange(img.shape[1]):\n",
    "            if img[m,n] > threshold:\n",
    "                img[m,n] = 0\n",
    "    return img\n",
    "\n",
    "def find_min(VI):\n",
    "    # Find minimum VI value\n",
    "    VI_min_pos = np.argmin(VI[:,2])\n",
    "    return VI[VI_min_pos], VI_min_pos\n",
    "    "
   ]
  },
  {
   "cell_type": "markdown",
   "metadata": {},
   "source": [
    "### Calculate VI/Error\n",
    "VI truth is the estimated VI for the membrane edges that are used as ground truth and represent the loss going from segmentation to edges and back. "
   ]
  },
  {
   "cell_type": "code",
   "execution_count": null,
   "metadata": {
    "collapsed": false
   },
   "outputs": [],
   "source": [
    "address1          = \"../results/48x48_av/\"\n",
    "pred_48x48_av     = np.load(address1 + \"/results/output.npy\")\n",
    "y1                = np.load(address1 + \"/results/y.npy\")\n",
    "pred_window_size  = np.load(address1 + \"/results/pred_window_size.npy\")\n",
    "gap1 = (pred_window_size[0]-pred_window_size[1])/2\n",
    "\n",
    "address2          = \"../results/48x48_2/\"\n",
    "pred_48x48         = np.load(address2 + \"/results/output.npy\")\n",
    "y2                = np.load(address2 + \"/results/y.npy\")\n",
    "pred_window_size  = np.load(address2 + \"/results/pred_window_size.npy\")\n",
    "gap2 = (pred_window_size[0]-pred_window_size[1])/2\n",
    "\n",
    "# Load in test-addresses\n",
    "f = file(address1 + \"/pre_processed/\" + \"test_adress.dat\", 'rb')\n",
    "test_address = cPickle.load(f)\n",
    "f.close()\n"
   ]
  },
  {
   "cell_type": "code",
   "execution_count": null,
   "metadata": {
    "collapsed": false
   },
   "outputs": [],
   "source": [
    "radii = np.linspace(7, 85, 30)\n",
    "VI_48x48_av = np.zeros((radii.size,3))\n",
    "VI_48x48 = np.zeros((radii.size,3))\n",
    "\n",
    "n = 0\n",
    "for address_img in test_address:\n",
    "    ground_truth = mh.imread(\"../\" + address_img)\n",
    "    ground_truth = ground_truth[gap2:-gap2,gap2:-gap2]\n",
    "    ground_truth = ground_truth.astype(np.uint16)\n",
    "    ground_truth = remove_synapse(ground_truth)\n",
    "    VI_48x48     += evaluate_VI( pred_48x48[n+5,0],ground_truth,radii)\n",
    "    \n",
    "    ground_truth = mh.imread(\"../\" + address_img)\n",
    "    ground_truth = ground_truth[gap1:-gap1,gap1:-gap1]\n",
    "    ground_truth = ground_truth.astype(np.uint16)   \n",
    "    VI_48x48_av       += evaluate_VI(pred_48x48_av[n,0],ground_truth,radii)\n",
    "    \n",
    "    n += 1\n",
    "    \n",
    "# Average VI\n",
    "VI_48x48_av    /= float(n) \n",
    "VI_48x48       /= float(n) \n",
    "\n",
    "print \"Finshed VI/watershed\"\n",
    "\n",
    "# Calculate min VI\n",
    "VI_min_48x48_av,min_index = find_min(VI_48x48_av)\n",
    "VI_min_48x48,min_index = find_min(VI_48x48)\n",
    "\n",
    "# Calculate pixel erro\n",
    "pixel_error_48x48_av = np.mean(np.abs(pred_48x48_av-y1))\n",
    "pixel_error_48x48 = np.mean(np.abs(pred_48x48-y2))\n",
    "\n",
    "# Estimate Ideal VI\n",
    "#radii_min = np.array([radii[min_index]],dtype=np.int32)\n",
    "\n",
    "#VI_truth = evaluate_VI(y2[-1],ground_truth,radii_min)\n",
    "#print \"Estimated VI Truth:\", VI_truth\n",
    "    "
   ]
  },
  {
   "cell_type": "code",
   "execution_count": null,
   "metadata": {
    "collapsed": false
   },
   "outputs": [],
   "source": [
    "plt.figure(figsize=(12,4))\n",
    "plt.subplot(1,2,1)\n",
    "plt.title(\"Variation of Information\")\n",
    "plt.xlabel(\"Watershed radius (pixels)\")\n",
    "plt.ylabel(\"VI\")\n",
    "plt.plot(radii,VI_48x48_av[:,2],label=\"2x2 output window\")\n",
    "plt.plot(radii,VI_48x48[:,2],label=\"48x48 output window\")\n",
    "plt.legend(loc=\"best\")\n",
    "\n",
    "plt.subplot(1,2,2)\n",
    "plt.title(\"Split VI\")\n",
    "plt.plot(radii,VI_48x48_av[:,0],label = \"Underseg. error, 2x2\",linestyle=\"--\",color=\"blue\")\n",
    "plt.plot(radii,VI_48x48_av[:,1],label = \"Overseg. error, 2x2\",color=\"blue\")\n",
    "plt.plot(radii,VI_48x48[:,0],label = \"Underseg. error, 48x48\",linestyle=\"--\",color=\"red\")\n",
    "plt.plot(radii,VI_48x48[:,1],label = \"Overseg. error, 48x48\",color=\"red\")\n",
    "plt.legend(loc=\"best\")\n",
    "plt.xlabel(\"Watershed radius (pixels)\")\n",
    "plt.ylabel(\"VI\")\n",
    "\n",
    "plt.savefig(\"comparison_2x48_VI\")"
   ]
  },
  {
   "cell_type": "markdown",
   "metadata": {},
   "source": [
    "### Best Segmentation Performance, 48x48 averaged"
   ]
  },
  {
   "cell_type": "code",
   "execution_count": null,
   "metadata": {
    "collapsed": false
   },
   "outputs": [],
   "source": [
    "print \"Variation of Information (VI):\",VI_min_48x48_av[2]\n",
    "print \"VI, undersegmentation error:\", VI_min_48x48_av[0]\n",
    "print \"VI, oversegmentation error:\", VI_min_48x48_av[1]\n",
    "print \"Pixel-wise error:\", pixel_error_48x48_av"
   ]
  },
  {
   "cell_type": "markdown",
   "metadata": {},
   "source": [
    "### Best Segmentation Performance, 48x48"
   ]
  },
  {
   "cell_type": "code",
   "execution_count": null,
   "metadata": {
    "collapsed": false
   },
   "outputs": [],
   "source": [
    "print \"Variation of Information (VI):\",VI_min_48x48[2]\n",
    "print \"VI, undersegmentation error:\", VI_min_48x48[0]\n",
    "print \"VI, oversegmentation error:\", VI_min_48x48[1]\n",
    "print \"Pixel-wise error:\", pixel_error_48x48"
   ]
  },
  {
   "cell_type": "markdown",
   "metadata": {},
   "source": [
    "### Example pictures"
   ]
  },
  {
   "cell_type": "code",
   "execution_count": null,
   "metadata": {
    "collapsed": false
   },
   "outputs": [],
   "source": [
    "#pred_2x2 = np.load(address1 + \"/results/output.npy\")\n",
    "#pred_48x48 = np.load(address2 + \"/results/output.npy\")\n",
    "y = np.load(address1 + \"/results/y.npy\")\n",
    "\n",
    "for n in xrange(y.shape[0]):\n",
    "\n",
    "    plt.figure(figsize=(12,4))\n",
    "    ax1 = plt.subplot(1,3,1)\n",
    "    ax1.set_title(\"Prediction 48x48 averaged\")\n",
    "    plt.imshow(pred_48x48_av[n,0],cmap=plt.cm.gray)\n",
    "    ax1.grid(True)\n",
    "    ax1.set_xticklabels([])\n",
    "    ax1.set_yticklabels([])\n",
    "\n",
    "    ax2 = plt.subplot(1,3,2)\n",
    "    ax2.set_title(\"Prediction 48x48\")\n",
    "    plt.imshow(pred_48x48[5+n,0],cmap=plt.cm.gray)\n",
    "    ax2.grid(True)\n",
    "    ax2.set_xticklabels([])\n",
    "    ax2.set_yticklabels([])\n",
    "\n",
    "    plt.subplot(1,3,3)\n",
    "    ax3 = plt.subplot(1,3,3)\n",
    "    ax3.set_title(\"Ground Truth\")\n",
    "    plt.imshow(y[n,0],cmap=plt.cm.gray)\n",
    "    ax3.grid(True)\n",
    "    ax3.set_xticklabels([])\n",
    "    ax3.set_yticklabels([])\n",
    "    \n",
    "    plt.savefig(\"comparison_48x48_avg_\" + str(n))"
   ]
  },
  {
   "cell_type": "code",
   "execution_count": null,
   "metadata": {
    "collapsed": true
   },
   "outputs": [],
   "source": []
  }
 ],
 "metadata": {
  "kernelspec": {
   "display_name": "Python 2",
   "language": "python",
   "name": "python2"
  },
  "language_info": {
   "codemirror_mode": {
    "name": "ipython",
    "version": 2
   },
   "file_extension": ".py",
   "mimetype": "text/x-python",
   "name": "python",
   "nbconvert_exporter": "python",
   "pygments_lexer": "ipython2",
   "version": "2.7.9"
  }
 },
 "nbformat": 4,
 "nbformat_minor": 0
}
